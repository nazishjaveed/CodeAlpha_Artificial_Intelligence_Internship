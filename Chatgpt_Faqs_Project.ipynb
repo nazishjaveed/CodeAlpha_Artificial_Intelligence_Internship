{
 "cells": [
  {
   "cell_type": "code",
   "execution_count": 1,
   "metadata": {},
   "outputs": [
    {
     "name": "stdout",
     "output_type": "stream",
     "text": [
      "Yes, we offer international shipping to most countries.\n"
     ]
    },
    {
     "name": "stderr",
     "output_type": "stream",
     "text": [
      "[nltk_data] Downloading package stopwords to D:\\nltk_data...\n",
      "[nltk_data]   Package stopwords is already up-to-date!\n"
     ]
    }
   ],
   "source": [
    "import nltk\n",
    "nltk.download('stopwords')\n",
    "\n",
    "from nltk.corpus import stopwords\n",
    "from nltk.tokenize import word_tokenize\n",
    "from sklearn.feature_extraction.text import TfidfVectorizer\n",
    "from sklearn.metrics.pairwise import cosine_similarity\n",
    "\n",
    "# Example FAQ data\n",
    "faq_data = {\n",
    "    \"What is your return policy?\": \"Our return policy allows for returns within 30 days of purchase.\",\n",
    "    \"How can I track my order?\": \"You can track your order by logging into your account.\",\n",
    "    \"Do you offer international shipping?\": \"Yes, we offer international shipping to most countries.\"\n",
    "}\n",
    "\n",
    "# Preprocessing function\n",
    "def preprocess_text(text):\n",
    "    stop_words = set(stopwords.words('english'))\n",
    "    word_tokens = word_tokenize(text.lower())\n",
    "    filtered_text = [word for word in word_tokens if word.isalnum() and word not in stop_words]\n",
    "    return ' '.join(filtered_text)\n",
    "\n",
    "# Preprocess FAQ data\n",
    "preprocessed_faqs = {preprocess_text(question): answer for question, answer in faq_data.items()}\n",
    "\n",
    "# Vectorization\n",
    "vectorizer = TfidfVectorizer()\n",
    "faq_questions = list(preprocessed_faqs.keys())\n",
    "faq_answers = list(preprocessed_faqs.values())\n",
    "vectorizer.fit(faq_questions)\n",
    "\n",
    "# Function to get FAQ answer\n",
    "def get_faq_answer(user_question):\n",
    "    user_question = preprocess_text(user_question)\n",
    "    user_question_vector = vectorizer.transform([user_question])\n",
    "    similarities = cosine_similarity(user_question_vector, vectorizer.transform(faq_questions))\n",
    "    most_similar_idx = similarities.argmax()\n",
    "    return faq_answers[most_similar_idx]\n",
    "\n",
    "# Example usage\n",
    "user_question = \"Do you offer international shipping?\"\n",
    "answer = get_faq_answer(user_question)\n",
    "print(answer)\n"
   ]
  }
 ],
 "metadata": {
  "kernelspec": {
   "display_name": "Python 3",
   "language": "python",
   "name": "python3"
  },
  "language_info": {
   "codemirror_mode": {
    "name": "ipython",
    "version": 3
   },
   "file_extension": ".py",
   "mimetype": "text/x-python",
   "name": "python",
   "nbconvert_exporter": "python",
   "pygments_lexer": "ipython3",
   "version": "3.8.0"
  }
 },
 "nbformat": 4,
 "nbformat_minor": 2
}
